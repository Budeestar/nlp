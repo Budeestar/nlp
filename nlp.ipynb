{
  "nbformat": 4,
  "nbformat_minor": 0,
  "metadata": {
    "colab": {
      "name": "nlp.ipynb",
      "provenance": []
    },
    "kernelspec": {
      "name": "python3",
      "display_name": "Python 3"
    }
  },
  "cells": [
    {
      "cell_type": "code",
      "metadata": {
        "id": "tArsuMBHSDnw",
        "colab_type": "code",
        "colab": {}
      },
      "source": [
        "a=\"Hello good evening everyone\"\n"
      ],
      "execution_count": 0,
      "outputs": []
    },
    {
      "cell_type": "code",
      "metadata": {
        "id": "FNprGosyVyXM",
        "colab_type": "code",
        "outputId": "32ffc371-2433-40aa-b4a0-0d5b673ea29b",
        "colab": {
          "base_uri": "https://localhost:8080/",
          "height": 34
        }
      },
      "source": [
        "a.upper()"
      ],
      "execution_count": 0,
      "outputs": [
        {
          "output_type": "execute_result",
          "data": {
            "text/plain": [
              "'HELLO GOOD EVENING EVERYONE'"
            ]
          },
          "metadata": {
            "tags": []
          },
          "execution_count": 2
        }
      ]
    },
    {
      "cell_type": "code",
      "metadata": {
        "id": "3Zl1S3y0V1bu",
        "colab_type": "code",
        "outputId": "491df979-84bb-4a17-f3d2-0af01fad0579",
        "colab": {
          "base_uri": "https://localhost:8080/",
          "height": 34
        }
      },
      "source": [
        "len(a)"
      ],
      "execution_count": 0,
      "outputs": [
        {
          "output_type": "execute_result",
          "data": {
            "text/plain": [
              "27"
            ]
          },
          "metadata": {
            "tags": []
          },
          "execution_count": 3
        }
      ]
    },
    {
      "cell_type": "code",
      "metadata": {
        "id": "QIqycuGaV_WI",
        "colab_type": "code",
        "outputId": "193d08ea-dc48-45b6-ca13-b9350cad4f3f",
        "colab": {
          "base_uri": "https://localhost:8080/",
          "height": 34
        }
      },
      "source": [
        "a.swapcase()"
      ],
      "execution_count": 0,
      "outputs": [
        {
          "output_type": "execute_result",
          "data": {
            "text/plain": [
              "'hELLO GOOD EVENING EVERYONE'"
            ]
          },
          "metadata": {
            "tags": []
          },
          "execution_count": 4
        }
      ]
    },
    {
      "cell_type": "code",
      "metadata": {
        "id": "rtOli_RsWIni",
        "colab_type": "code",
        "outputId": "4ad4d9e6-f7c7-429c-9b28-3c2a705f98ed",
        "colab": {
          "base_uri": "https://localhost:8080/",
          "height": 34
        }
      },
      "source": [
        "a.index(\"Hello\")"
      ],
      "execution_count": 0,
      "outputs": [
        {
          "output_type": "execute_result",
          "data": {
            "text/plain": [
              "0"
            ]
          },
          "metadata": {
            "tags": []
          },
          "execution_count": 5
        }
      ]
    },
    {
      "cell_type": "code",
      "metadata": {
        "id": "-2Yz2HVLWUtp",
        "colab_type": "code",
        "outputId": "f2d97e55-df12-4793-f1a1-f5c24d5ee73a",
        "colab": {
          "base_uri": "https://localhost:8080/",
          "height": 34
        }
      },
      "source": [
        "a.find(\"good\")"
      ],
      "execution_count": 0,
      "outputs": [
        {
          "output_type": "execute_result",
          "data": {
            "text/plain": [
              "6"
            ]
          },
          "metadata": {
            "tags": []
          },
          "execution_count": 6
        }
      ]
    },
    {
      "cell_type": "code",
      "metadata": {
        "id": "cw_wyhqhWdkU",
        "colab_type": "code",
        "colab": {}
      },
      "source": [
        "import re"
      ],
      "execution_count": 0,
      "outputs": []
    },
    {
      "cell_type": "code",
      "metadata": {
        "id": "mpLS1IlpWzZd",
        "colab_type": "code",
        "colab": {}
      },
      "source": [
        "s=\"cat mat bat rat\"\n",
        "d=re.compile(r'm\\w\\w')"
      ],
      "execution_count": 0,
      "outputs": []
    },
    {
      "cell_type": "code",
      "metadata": {
        "id": "XolDRLnXYHTE",
        "colab_type": "code",
        "outputId": "77312cf7-2a35-44b1-8b25-6dbbbf5ebd56",
        "colab": {
          "base_uri": "https://localhost:8080/",
          "height": 34
        }
      },
      "source": [
        "result=d.search(s)\n",
        "result"
      ],
      "execution_count": 0,
      "outputs": [
        {
          "output_type": "execute_result",
          "data": {
            "text/plain": [
              "<_sre.SRE_Match object; span=(4, 7), match='mat'>"
            ]
          },
          "metadata": {
            "tags": []
          },
          "execution_count": 9
        }
      ]
    },
    {
      "cell_type": "code",
      "metadata": {
        "id": "yeoEhXptYc72",
        "colab_type": "code",
        "outputId": "a5b2abf1-70c0-49e3-aaa6-b0d05c42003b",
        "colab": {
          "base_uri": "https://localhost:8080/",
          "height": 34
        }
      },
      "source": [
        "result.group()"
      ],
      "execution_count": 0,
      "outputs": [
        {
          "output_type": "execute_result",
          "data": {
            "text/plain": [
              "'mat'"
            ]
          },
          "metadata": {
            "tags": []
          },
          "execution_count": 10
        }
      ]
    },
    {
      "cell_type": "code",
      "metadata": {
        "id": "63HP68f5YoXI",
        "colab_type": "code",
        "outputId": "09c17682-e45d-4940-8fc4-692566b00670",
        "colab": {
          "base_uri": "https://localhost:8080/",
          "height": 34
        }
      },
      "source": [
        "re.findall(r'm\\w*',s)"
      ],
      "execution_count": 0,
      "outputs": [
        {
          "output_type": "execute_result",
          "data": {
            "text/plain": [
              "['mat']"
            ]
          },
          "metadata": {
            "tags": []
          },
          "execution_count": 11
        }
      ]
    },
    {
      "cell_type": "code",
      "metadata": {
        "id": "j_crPRy2Y_5O",
        "colab_type": "code",
        "outputId": "7c9c3690-6f84-4b69-add3-869ba4161fa5",
        "colab": {
          "base_uri": "https://localhost:8080/",
          "height": 34
        }
      },
      "source": [
        "a=\"nithin star : 121009174\"\n",
        "re.findall('\\w*',a)"
      ],
      "execution_count": 0,
      "outputs": [
        {
          "output_type": "execute_result",
          "data": {
            "text/plain": [
              "['nithin', '', 'star', '', '', '', '121009174', '']"
            ]
          },
          "metadata": {
            "tags": []
          },
          "execution_count": 14
        }
      ]
    },
    {
      "cell_type": "code",
      "metadata": {
        "id": "igoLk_L0Zqgt",
        "colab_type": "code",
        "outputId": "a4654a83-adff-4e68-e072-cc47485f4b5e",
        "colab": {
          "base_uri": "https://localhost:8080/",
          "height": 34
        }
      },
      "source": [
        "re.findall('\\D+',a)"
      ],
      "execution_count": 0,
      "outputs": [
        {
          "output_type": "execute_result",
          "data": {
            "text/plain": [
              "['nithin star : ']"
            ]
          },
          "metadata": {
            "tags": []
          },
          "execution_count": 15
        }
      ]
    },
    {
      "cell_type": "code",
      "metadata": {
        "id": "SOfHHo64Z3SC",
        "colab_type": "code",
        "outputId": "22cfe56b-7813-4475-c6c8-ef83da6955f5",
        "colab": {
          "base_uri": "https://localhost:8080/",
          "height": 34
        }
      },
      "source": [
        "re.findall('\\d',a)"
      ],
      "execution_count": 0,
      "outputs": [
        {
          "output_type": "execute_result",
          "data": {
            "text/plain": [
              "['1', '2', '1', '0', '0', '9', '1', '7', '4']"
            ]
          },
          "metadata": {
            "tags": []
          },
          "execution_count": 16
        }
      ]
    },
    {
      "cell_type": "code",
      "metadata": {
        "id": "FB39RYTZaZv6",
        "colab_type": "code",
        "outputId": "a78b8002-4034-44b6-cb42-00a4e3f0dfc2",
        "colab": {
          "base_uri": "https://localhost:8080/",
          "height": 34
        }
      },
      "source": [
        "a=\"hey you are so intelligent\"\n",
        "words=a.split(' ')\n",
        "print(words)"
      ],
      "execution_count": 0,
      "outputs": [
        {
          "output_type": "stream",
          "text": [
            "['hey', 'you', 'are', 'so', 'intelligent']\n"
          ],
          "name": "stdout"
        }
      ]
    },
    {
      "cell_type": "code",
      "metadata": {
        "id": "YbydnWqAbw5T",
        "colab_type": "code",
        "outputId": "ad97cec8-cd5e-481b-9e23-8c11bd187d8b",
        "colab": {
          "base_uri": "https://localhost:8080/",
          "height": 67
        }
      },
      "source": [
        "nltk.download('punkt')"
      ],
      "execution_count": 0,
      "outputs": [
        {
          "output_type": "stream",
          "text": [
            "[nltk_data] Downloading package punkt to /root/nltk_data...\n",
            "[nltk_data]   Unzipping tokenizers/punkt.zip.\n"
          ],
          "name": "stdout"
        },
        {
          "output_type": "execute_result",
          "data": {
            "text/plain": [
              "True"
            ]
          },
          "metadata": {
            "tags": []
          },
          "execution_count": 21
        }
      ]
    },
    {
      "cell_type": "code",
      "metadata": {
        "id": "3OVkkbi4bJeI",
        "colab_type": "code",
        "outputId": "24304f25-cdbf-48bb-e000-904e599d059b",
        "colab": {
          "base_uri": "https://localhost:8080/",
          "height": 34
        }
      },
      "source": [
        "import nltk\n",
        "from nltk.tokenize import word_tokenize\n",
        "print(word_tokenize(a))"
      ],
      "execution_count": 0,
      "outputs": [
        {
          "output_type": "stream",
          "text": [
            "['hey', 'you', 'are', 'so', 'intelligent']\n"
          ],
          "name": "stdout"
        }
      ]
    },
    {
      "cell_type": "code",
      "metadata": {
        "id": "k_Hmw4Tobpsc",
        "colab_type": "code",
        "outputId": "b3dc1151-d6fb-4bdd-9a2e-00191ecef420",
        "colab": {
          "base_uri": "https://localhost:8080/",
          "height": 34
        }
      },
      "source": [
        "sentence=\"Hello everyone welcome have a good day\"\n",
        "tokens=nltk.word_tokenize(sentence)\n",
        "tokens"
      ],
      "execution_count": 0,
      "outputs": [
        {
          "output_type": "execute_result",
          "data": {
            "text/plain": [
              "['Hello', 'everyone', 'welcome', 'have', 'a', 'good', 'day']"
            ]
          },
          "metadata": {
            "tags": []
          },
          "execution_count": 23
        }
      ]
    },
    {
      "cell_type": "code",
      "metadata": {
        "id": "n0gGW09mdMCP",
        "colab_type": "code",
        "outputId": "de7daef1-9060-4a11-bf68-94afe3af453b",
        "colab": {
          "base_uri": "https://localhost:8080/",
          "height": 84
        }
      },
      "source": [
        "nltk.download('averaged_perceptron_tagger')"
      ],
      "execution_count": 0,
      "outputs": [
        {
          "output_type": "stream",
          "text": [
            "[nltk_data] Downloading package averaged_perceptron_tagger to\n",
            "[nltk_data]     /root/nltk_data...\n",
            "[nltk_data]   Unzipping taggers/averaged_perceptron_tagger.zip.\n"
          ],
          "name": "stdout"
        },
        {
          "output_type": "execute_result",
          "data": {
            "text/plain": [
              "True"
            ]
          },
          "metadata": {
            "tags": []
          },
          "execution_count": 25
        }
      ]
    },
    {
      "cell_type": "code",
      "metadata": {
        "id": "-Cwp_pu4curl",
        "colab_type": "code",
        "outputId": "eda4648e-ffff-43dd-849b-56426718ba7e",
        "colab": {
          "base_uri": "https://localhost:8080/",
          "height": 134
        }
      },
      "source": [
        "tagged=nltk.pos_tag(tokens)\n",
        "tagged"
      ],
      "execution_count": 0,
      "outputs": [
        {
          "output_type": "execute_result",
          "data": {
            "text/plain": [
              "[('Hello', 'NNP'),\n",
              " ('everyone', 'NN'),\n",
              " ('welcome', 'NN'),\n",
              " ('have', 'VBP'),\n",
              " ('a', 'DT'),\n",
              " ('good', 'JJ'),\n",
              " ('day', 'NN')]"
            ]
          },
          "metadata": {
            "tags": []
          },
          "execution_count": 26
        }
      ]
    },
    {
      "cell_type": "code",
      "metadata": {
        "id": "nWmG3MP4dE3T",
        "colab_type": "code",
        "colab": {}
      },
      "source": [
        "from nltk.tokenize import sent_tokenize"
      ],
      "execution_count": 0,
      "outputs": []
    },
    {
      "cell_type": "code",
      "metadata": {
        "id": "mZOC-eaxd8Oh",
        "colab_type": "code",
        "outputId": "1e8f9866-654f-4dc2-958b-0f595b0a8857",
        "colab": {
          "base_uri": "https://localhost:8080/",
          "height": 67
        }
      },
      "source": [
        "a=\"i am a star. as my friends call me a star.my friend is abhi. i am passionate towards skills.\"\n",
        "d=sent_tokenize(a)\n",
        "d"
      ],
      "execution_count": 0,
      "outputs": [
        {
          "output_type": "execute_result",
          "data": {
            "text/plain": [
              "['i am a star.',\n",
              " 'as my friends call me a star.my friend is abhi.',\n",
              " 'i am passionate towards skills.']"
            ]
          },
          "metadata": {
            "tags": []
          },
          "execution_count": 28
        }
      ]
    },
    {
      "cell_type": "code",
      "metadata": {
        "id": "Apgf__vKeXO7",
        "colab_type": "code",
        "outputId": "e3edaab7-3dab-470c-f92f-4bfafda9e2a6",
        "colab": {
          "base_uri": "https://localhost:8080/",
          "height": 67
        }
      },
      "source": [
        "nltk.pos_tag(d)"
      ],
      "execution_count": 0,
      "outputs": [
        {
          "output_type": "execute_result",
          "data": {
            "text/plain": [
              "[('i am a star.', 'NN'),\n",
              " ('as my friends call me a star.my friend is abhi.', 'NN'),\n",
              " ('i am passionate towards skills.', 'NN')]"
            ]
          },
          "metadata": {
            "tags": []
          },
          "execution_count": 30
        }
      ]
    },
    {
      "cell_type": "code",
      "metadata": {
        "id": "vPPdD2tCemLK",
        "colab_type": "code",
        "colab": {}
      },
      "source": [
        "from nltk.stem.wordnet import WordNetLemmatizer\n",
        "from nltk.stem.porter import PorterStemmer"
      ],
      "execution_count": 0,
      "outputs": []
    },
    {
      "cell_type": "code",
      "metadata": {
        "id": "HuIo17CBfUvY",
        "colab_type": "code",
        "colab": {}
      },
      "source": [
        "len=WordNetLemmatizer()\n",
        "stem=PorterStemmer()"
      ],
      "execution_count": 0,
      "outputs": []
    },
    {
      "cell_type": "code",
      "metadata": {
        "id": "JbI5c7vAfdXU",
        "colab_type": "code",
        "outputId": "945ed7d4-0b58-4fce-e5c0-00dee652fd75",
        "colab": {
          "base_uri": "https://localhost:8080/",
          "height": 34
        }
      },
      "source": [
        "word=\"multiplying\"\n",
        "len.lemmatize(word,'v')"
      ],
      "execution_count": 0,
      "outputs": [
        {
          "output_type": "execute_result",
          "data": {
            "text/plain": [
              "'multiply'"
            ]
          },
          "metadata": {
            "tags": []
          },
          "execution_count": 37
        }
      ]
    },
    {
      "cell_type": "code",
      "metadata": {
        "id": "tblMzk5QgMis",
        "colab_type": "code",
        "outputId": "0cc0b821-f3e0-4a2c-c6b1-f07748a4f31e",
        "colab": {
          "base_uri": "https://localhost:8080/",
          "height": 34
        }
      },
      "source": [
        "stem.stem(word)"
      ],
      "execution_count": 0,
      "outputs": [
        {
          "output_type": "execute_result",
          "data": {
            "text/plain": [
              "'multipli'"
            ]
          },
          "metadata": {
            "tags": []
          },
          "execution_count": 38
        }
      ]
    },
    {
      "cell_type": "code",
      "metadata": {
        "id": "mDHt_neofwQC",
        "colab_type": "code",
        "outputId": "678545ea-55bb-42e2-d8b7-a83c703372a6",
        "colab": {
          "base_uri": "https://localhost:8080/",
          "height": 67
        }
      },
      "source": [
        "nltk.download('wordnet')"
      ],
      "execution_count": 0,
      "outputs": [
        {
          "output_type": "stream",
          "text": [
            "[nltk_data] Downloading package wordnet to /root/nltk_data...\n",
            "[nltk_data]   Unzipping corpora/wordnet.zip.\n"
          ],
          "name": "stdout"
        },
        {
          "output_type": "execute_result",
          "data": {
            "text/plain": [
              "True"
            ]
          },
          "metadata": {
            "tags": []
          },
          "execution_count": 35
        }
      ]
    },
    {
      "cell_type": "code",
      "metadata": {
        "id": "WcYjppaSf39F",
        "colab_type": "code",
        "colab": {}
      },
      "source": [
        "from nltk.corpus import stopwords\n"
      ],
      "execution_count": 0,
      "outputs": []
    },
    {
      "cell_type": "code",
      "metadata": {
        "id": "MNs5AE2Bgo1g",
        "colab_type": "code",
        "outputId": "b610ac50-e83e-42a4-c6a5-f5cf66643853",
        "colab": {
          "base_uri": "https://localhost:8080/",
          "height": 1000
        }
      },
      "source": [
        "stopwords.words(\"english\")"
      ],
      "execution_count": 0,
      "outputs": [
        {
          "output_type": "execute_result",
          "data": {
            "text/plain": [
              "['i',\n",
              " 'me',\n",
              " 'my',\n",
              " 'myself',\n",
              " 'we',\n",
              " 'our',\n",
              " 'ours',\n",
              " 'ourselves',\n",
              " 'you',\n",
              " \"you're\",\n",
              " \"you've\",\n",
              " \"you'll\",\n",
              " \"you'd\",\n",
              " 'your',\n",
              " 'yours',\n",
              " 'yourself',\n",
              " 'yourselves',\n",
              " 'he',\n",
              " 'him',\n",
              " 'his',\n",
              " 'himself',\n",
              " 'she',\n",
              " \"she's\",\n",
              " 'her',\n",
              " 'hers',\n",
              " 'herself',\n",
              " 'it',\n",
              " \"it's\",\n",
              " 'its',\n",
              " 'itself',\n",
              " 'they',\n",
              " 'them',\n",
              " 'their',\n",
              " 'theirs',\n",
              " 'themselves',\n",
              " 'what',\n",
              " 'which',\n",
              " 'who',\n",
              " 'whom',\n",
              " 'this',\n",
              " 'that',\n",
              " \"that'll\",\n",
              " 'these',\n",
              " 'those',\n",
              " 'am',\n",
              " 'is',\n",
              " 'are',\n",
              " 'was',\n",
              " 'were',\n",
              " 'be',\n",
              " 'been',\n",
              " 'being',\n",
              " 'have',\n",
              " 'has',\n",
              " 'had',\n",
              " 'having',\n",
              " 'do',\n",
              " 'does',\n",
              " 'did',\n",
              " 'doing',\n",
              " 'a',\n",
              " 'an',\n",
              " 'the',\n",
              " 'and',\n",
              " 'but',\n",
              " 'if',\n",
              " 'or',\n",
              " 'because',\n",
              " 'as',\n",
              " 'until',\n",
              " 'while',\n",
              " 'of',\n",
              " 'at',\n",
              " 'by',\n",
              " 'for',\n",
              " 'with',\n",
              " 'about',\n",
              " 'against',\n",
              " 'between',\n",
              " 'into',\n",
              " 'through',\n",
              " 'during',\n",
              " 'before',\n",
              " 'after',\n",
              " 'above',\n",
              " 'below',\n",
              " 'to',\n",
              " 'from',\n",
              " 'up',\n",
              " 'down',\n",
              " 'in',\n",
              " 'out',\n",
              " 'on',\n",
              " 'off',\n",
              " 'over',\n",
              " 'under',\n",
              " 'again',\n",
              " 'further',\n",
              " 'then',\n",
              " 'once',\n",
              " 'here',\n",
              " 'there',\n",
              " 'when',\n",
              " 'where',\n",
              " 'why',\n",
              " 'how',\n",
              " 'all',\n",
              " 'any',\n",
              " 'both',\n",
              " 'each',\n",
              " 'few',\n",
              " 'more',\n",
              " 'most',\n",
              " 'other',\n",
              " 'some',\n",
              " 'such',\n",
              " 'no',\n",
              " 'nor',\n",
              " 'not',\n",
              " 'only',\n",
              " 'own',\n",
              " 'same',\n",
              " 'so',\n",
              " 'than',\n",
              " 'too',\n",
              " 'very',\n",
              " 's',\n",
              " 't',\n",
              " 'can',\n",
              " 'will',\n",
              " 'just',\n",
              " 'don',\n",
              " \"don't\",\n",
              " 'should',\n",
              " \"should've\",\n",
              " 'now',\n",
              " 'd',\n",
              " 'll',\n",
              " 'm',\n",
              " 'o',\n",
              " 're',\n",
              " 've',\n",
              " 'y',\n",
              " 'ain',\n",
              " 'aren',\n",
              " \"aren't\",\n",
              " 'couldn',\n",
              " \"couldn't\",\n",
              " 'didn',\n",
              " \"didn't\",\n",
              " 'doesn',\n",
              " \"doesn't\",\n",
              " 'hadn',\n",
              " \"hadn't\",\n",
              " 'hasn',\n",
              " \"hasn't\",\n",
              " 'haven',\n",
              " \"haven't\",\n",
              " 'isn',\n",
              " \"isn't\",\n",
              " 'ma',\n",
              " 'mightn',\n",
              " \"mightn't\",\n",
              " 'mustn',\n",
              " \"mustn't\",\n",
              " 'needn',\n",
              " \"needn't\",\n",
              " 'shan',\n",
              " \"shan't\",\n",
              " 'shouldn',\n",
              " \"shouldn't\",\n",
              " 'wasn',\n",
              " \"wasn't\",\n",
              " 'weren',\n",
              " \"weren't\",\n",
              " 'won',\n",
              " \"won't\",\n",
              " 'wouldn',\n",
              " \"wouldn't\"]"
            ]
          },
          "metadata": {
            "tags": []
          },
          "execution_count": 42
        }
      ]
    },
    {
      "cell_type": "code",
      "metadata": {
        "id": "DDGu5MvLgxdU",
        "colab_type": "code",
        "outputId": "37c39464-b7f1-4dea-8ade-cf3a01ae7a00",
        "colab": {
          "base_uri": "https://localhost:8080/",
          "height": 67
        }
      },
      "source": [
        "nltk.download('stopwords')"
      ],
      "execution_count": 0,
      "outputs": [
        {
          "output_type": "stream",
          "text": [
            "[nltk_data] Downloading package stopwords to /root/nltk_data...\n",
            "[nltk_data]   Package stopwords is already up-to-date!\n"
          ],
          "name": "stdout"
        },
        {
          "output_type": "execute_result",
          "data": {
            "text/plain": [
              "True"
            ]
          },
          "metadata": {
            "tags": []
          },
          "execution_count": 43
        }
      ]
    },
    {
      "cell_type": "code",
      "metadata": {
        "id": "JVME_HOvg0L8",
        "colab_type": "code",
        "colab": {}
      },
      "source": [
        "english_stop=set(stopwords.words(\"english\"))"
      ],
      "execution_count": 0,
      "outputs": []
    },
    {
      "cell_type": "code",
      "metadata": {
        "id": "UoXv8tFLhZXc",
        "colab_type": "code",
        "colab": {}
      },
      "source": [
        "words=[\"My\",\"name\",\"is\",\"star\"]"
      ],
      "execution_count": 0,
      "outputs": []
    },
    {
      "cell_type": "code",
      "metadata": {
        "id": "52xeKwbAhkAD",
        "colab_type": "code",
        "outputId": "5c2a0d33-089e-46b6-ed80-3cbdaf9eff8f",
        "colab": {
          "base_uri": "https://localhost:8080/",
          "height": 34
        }
      },
      "source": [
        "[word for word in words if word not in english_stop]"
      ],
      "execution_count": 0,
      "outputs": [
        {
          "output_type": "execute_result",
          "data": {
            "text/plain": [
              "['My', 'name', 'star']"
            ]
          },
          "metadata": {
            "tags": []
          },
          "execution_count": 46
        }
      ]
    },
    {
      "cell_type": "code",
      "metadata": {
        "id": "F3RO13wShvNp",
        "colab_type": "code",
        "outputId": "d33eafc1-0f9d-42c1-bb8a-4cdf36fd5189",
        "colab": {
          "base_uri": "https://localhost:8080/",
          "height": 336
        }
      },
      "source": [
        "#gTTS\n",
        "!pip install gTTS"
      ],
      "execution_count": 0,
      "outputs": [
        {
          "output_type": "stream",
          "text": [
            "Collecting gTTS\n",
            "  Downloading https://files.pythonhosted.org/packages/a1/0c/4ca77eca3b739a4a08360930643f58d714e302fee0d2f8c654e67d9af8e7/gTTS-2.1.1-py3-none-any.whl\n",
            "Requirement already satisfied: beautifulsoup4 in /usr/local/lib/python3.6/dist-packages (from gTTS) (4.6.3)\n",
            "Collecting gtts-token>=1.1.3\n",
            "  Downloading https://files.pythonhosted.org/packages/e7/25/ca6e9cd3275bfc3097fe6b06cc31db6d3dfaf32e032e0f73fead9c9a03ce/gTTS-token-1.1.3.tar.gz\n",
            "Requirement already satisfied: requests in /usr/local/lib/python3.6/dist-packages (from gTTS) (2.23.0)\n",
            "Requirement already satisfied: click in /usr/local/lib/python3.6/dist-packages (from gTTS) (7.1.2)\n",
            "Requirement already satisfied: six in /usr/local/lib/python3.6/dist-packages (from gTTS) (1.12.0)\n",
            "Requirement already satisfied: chardet<4,>=3.0.2 in /usr/local/lib/python3.6/dist-packages (from requests->gTTS) (3.0.4)\n",
            "Requirement already satisfied: certifi>=2017.4.17 in /usr/local/lib/python3.6/dist-packages (from requests->gTTS) (2020.4.5.1)\n",
            "Requirement already satisfied: idna<3,>=2.5 in /usr/local/lib/python3.6/dist-packages (from requests->gTTS) (2.9)\n",
            "Requirement already satisfied: urllib3!=1.25.0,!=1.25.1,<1.26,>=1.21.1 in /usr/local/lib/python3.6/dist-packages (from requests->gTTS) (1.24.3)\n",
            "Building wheels for collected packages: gtts-token\n",
            "  Building wheel for gtts-token (setup.py) ... \u001b[?25l\u001b[?25hdone\n",
            "  Created wheel for gtts-token: filename=gTTS_token-1.1.3-cp36-none-any.whl size=4097 sha256=d61181deba04a87d07265a7fc784ada3d3b9dd6f51d7f3cd5c05bac6ca2d4472\n",
            "  Stored in directory: /root/.cache/pip/wheels/dd/11/61/33f7e51bf545e910552b2255eead2a7cd8ef54064b46dceb34\n",
            "Successfully built gtts-token\n",
            "Installing collected packages: gtts-token, gTTS\n",
            "Successfully installed gTTS-2.1.1 gtts-token-1.1.3\n"
          ],
          "name": "stdout"
        }
      ]
    },
    {
      "cell_type": "code",
      "metadata": {
        "id": "ApHl-B98id4-",
        "colab_type": "code",
        "colab": {}
      },
      "source": [
        "from gtts import gTTS"
      ],
      "execution_count": 0,
      "outputs": []
    },
    {
      "cell_type": "code",
      "metadata": {
        "id": "yrjlX8U-i7WC",
        "colab_type": "code",
        "colab": {}
      },
      "source": [
        "some=gTTS(\"hello guys\")"
      ],
      "execution_count": 0,
      "outputs": []
    },
    {
      "cell_type": "code",
      "metadata": {
        "id": "zdJNIuQkjEt6",
        "colab_type": "code",
        "outputId": "183dcb03-490c-4d78-f084-b6a1cf6309f9",
        "colab": {
          "base_uri": "https://localhost:8080/",
          "height": 34
        }
      },
      "source": [
        "some"
      ],
      "execution_count": 0,
      "outputs": [
        {
          "output_type": "execute_result",
          "data": {
            "text/plain": [
              "<gtts.tts.gTTS at 0x7f38f0b35780>"
            ]
          },
          "metadata": {
            "tags": []
          },
          "execution_count": 51
        }
      ]
    },
    {
      "cell_type": "code",
      "metadata": {
        "id": "I_zEq823jFyP",
        "colab_type": "code",
        "colab": {}
      },
      "source": [
        "some.save(\"hello.mp3\")"
      ],
      "execution_count": 0,
      "outputs": []
    },
    {
      "cell_type": "code",
      "metadata": {
        "id": "2JPwkSErjKOs",
        "colab_type": "code",
        "outputId": "ca4599e8-20f2-4c00-a82c-3e84b7b36971",
        "colab": {
          "base_uri": "https://localhost:8080/",
          "height": 840
        }
      },
      "source": [
        "!pip install newspaper3k"
      ],
      "execution_count": 0,
      "outputs": [
        {
          "output_type": "stream",
          "text": [
            "Collecting newspaper3k\n",
            "\u001b[?25l  Downloading https://files.pythonhosted.org/packages/d7/b9/51afecb35bb61b188a4b44868001de348a0e8134b4dfa00ffc191567c4b9/newspaper3k-0.2.8-py3-none-any.whl (211kB)\n",
            "\u001b[K     |████████████████████████████████| 215kB 7.8MB/s \n",
            "\u001b[?25hRequirement already satisfied: requests>=2.10.0 in /usr/local/lib/python3.6/dist-packages (from newspaper3k) (2.23.0)\n",
            "Requirement already satisfied: beautifulsoup4>=4.4.1 in /usr/local/lib/python3.6/dist-packages (from newspaper3k) (4.6.3)\n",
            "Requirement already satisfied: nltk>=3.2.1 in /usr/local/lib/python3.6/dist-packages (from newspaper3k) (3.2.5)\n",
            "Collecting jieba3k>=0.35.1\n",
            "\u001b[?25l  Downloading https://files.pythonhosted.org/packages/a9/cb/2c8332bcdc14d33b0bedd18ae0a4981a069c3513e445120da3c3f23a8aaa/jieba3k-0.35.1.zip (7.4MB)\n",
            "\u001b[K     |████████████████████████████████| 7.4MB 16.4MB/s \n",
            "\u001b[?25hCollecting tinysegmenter==0.3\n",
            "  Downloading https://files.pythonhosted.org/packages/17/82/86982e4b6d16e4febc79c2a1d68ee3b707e8a020c5d2bc4af8052d0f136a/tinysegmenter-0.3.tar.gz\n",
            "Requirement already satisfied: PyYAML>=3.11 in /usr/local/lib/python3.6/dist-packages (from newspaper3k) (3.13)\n",
            "Requirement already satisfied: lxml>=3.6.0 in /usr/local/lib/python3.6/dist-packages (from newspaper3k) (4.2.6)\n",
            "Requirement already satisfied: Pillow>=3.3.0 in /usr/local/lib/python3.6/dist-packages (from newspaper3k) (7.0.0)\n",
            "Requirement already satisfied: python-dateutil>=2.5.3 in /usr/local/lib/python3.6/dist-packages (from newspaper3k) (2.8.1)\n",
            "Collecting feedparser>=5.2.1\n",
            "\u001b[?25l  Downloading https://files.pythonhosted.org/packages/91/d8/7d37fec71ff7c9dbcdd80d2b48bcdd86d6af502156fc93846fb0102cb2c4/feedparser-5.2.1.tar.bz2 (192kB)\n",
            "\u001b[K     |████████████████████████████████| 194kB 49.5MB/s \n",
            "\u001b[?25hCollecting cssselect>=0.9.2\n",
            "  Downloading https://files.pythonhosted.org/packages/3b/d4/3b5c17f00cce85b9a1e6f91096e1cc8e8ede2e1be8e96b87ce1ed09e92c5/cssselect-1.1.0-py2.py3-none-any.whl\n",
            "Collecting feedfinder2>=0.0.4\n",
            "  Downloading https://files.pythonhosted.org/packages/35/82/1251fefec3bb4b03fd966c7e7f7a41c9fc2bb00d823a34c13f847fd61406/feedfinder2-0.0.4.tar.gz\n",
            "Collecting tldextract>=2.0.1\n",
            "\u001b[?25l  Downloading https://files.pythonhosted.org/packages/fd/0e/9ab599d6e78f0340bb1d1e28ddeacb38c8bb7f91a1b0eae9a24e9603782f/tldextract-2.2.2-py2.py3-none-any.whl (48kB)\n",
            "\u001b[K     |████████████████████████████████| 51kB 7.5MB/s \n",
            "\u001b[?25hRequirement already satisfied: idna<3,>=2.5 in /usr/local/lib/python3.6/dist-packages (from requests>=2.10.0->newspaper3k) (2.9)\n",
            "Requirement already satisfied: urllib3!=1.25.0,!=1.25.1,<1.26,>=1.21.1 in /usr/local/lib/python3.6/dist-packages (from requests>=2.10.0->newspaper3k) (1.24.3)\n",
            "Requirement already satisfied: certifi>=2017.4.17 in /usr/local/lib/python3.6/dist-packages (from requests>=2.10.0->newspaper3k) (2020.4.5.1)\n",
            "Requirement already satisfied: chardet<4,>=3.0.2 in /usr/local/lib/python3.6/dist-packages (from requests>=2.10.0->newspaper3k) (3.0.4)\n",
            "Requirement already satisfied: six in /usr/local/lib/python3.6/dist-packages (from nltk>=3.2.1->newspaper3k) (1.12.0)\n",
            "Collecting requests-file>=1.4\n",
            "  Downloading https://files.pythonhosted.org/packages/77/86/cdb5e8eaed90796aa83a6d9f75cfbd37af553c47a291cd47bc410ef9bdb2/requests_file-1.5.1-py2.py3-none-any.whl\n",
            "Requirement already satisfied: setuptools in /usr/local/lib/python3.6/dist-packages (from tldextract>=2.0.1->newspaper3k) (46.1.3)\n",
            "Building wheels for collected packages: jieba3k, tinysegmenter, feedparser, feedfinder2\n",
            "  Building wheel for jieba3k (setup.py) ... \u001b[?25l\u001b[?25hdone\n",
            "  Created wheel for jieba3k: filename=jieba3k-0.35.1-cp36-none-any.whl size=7398406 sha256=4b98299a513f72e8c0c6aa0cd4300e89b84b2bdb30cb40be08136ad048843300\n",
            "  Stored in directory: /root/.cache/pip/wheels/83/15/9c/a3f1f67e7f7181170ad37d32e503c35da20627c013f438ed34\n",
            "  Building wheel for tinysegmenter (setup.py) ... \u001b[?25l\u001b[?25hdone\n",
            "  Created wheel for tinysegmenter: filename=tinysegmenter-0.3-cp36-none-any.whl size=13539 sha256=1c3cdc803728b0ae50d2b148919f736848bd27177cbb25f6bb54d478a92fe7b5\n",
            "  Stored in directory: /root/.cache/pip/wheels/81/2b/43/a02ede72324dd40cdd7ca53aad718c7710628e91b8b0dc0f02\n",
            "  Building wheel for feedparser (setup.py) ... \u001b[?25l\u001b[?25hdone\n",
            "  Created wheel for feedparser: filename=feedparser-5.2.1-cp36-none-any.whl size=44940 sha256=46b4827151bbb1905a16162e6fe6c8ae6f879c866c4cba4323361c0be8237693\n",
            "  Stored in directory: /root/.cache/pip/wheels/8c/69/b7/f52763c41c5471df57703a0ef718a32a5e81ee35dcf6d4f97f\n",
            "  Building wheel for feedfinder2 (setup.py) ... \u001b[?25l\u001b[?25hdone\n",
            "  Created wheel for feedfinder2: filename=feedfinder2-0.0.4-cp36-none-any.whl size=3357 sha256=1b17733628440920046af9c2e0dcbab0ac15ea91c692ec0dac30877d32dafeac\n",
            "  Stored in directory: /root/.cache/pip/wheels/de/03/ca/778e3a7a627e3d98836cc890e7cb40c7575424cfd3340f40ed\n",
            "Successfully built jieba3k tinysegmenter feedparser feedfinder2\n",
            "Installing collected packages: jieba3k, tinysegmenter, feedparser, cssselect, feedfinder2, requests-file, tldextract, newspaper3k\n",
            "Successfully installed cssselect-1.1.0 feedfinder2-0.0.4 feedparser-5.2.1 jieba3k-0.35.1 newspaper3k-0.2.8 requests-file-1.5.1 tinysegmenter-0.3 tldextract-2.2.2\n"
          ],
          "name": "stdout"
        }
      ]
    },
    {
      "cell_type": "code",
      "metadata": {
        "id": "EhoX2Of6jnvp",
        "colab_type": "code",
        "colab": {}
      },
      "source": [
        "from newspaper import Article"
      ],
      "execution_count": 0,
      "outputs": []
    },
    {
      "cell_type": "code",
      "metadata": {
        "id": "74Whktv6j3Xe",
        "colab_type": "code",
        "colab": {}
      },
      "source": [
        "article=Article(\"https://en.wikipedia.org/wiki/History_of_cricket\")\n",
        "article.download()"
      ],
      "execution_count": 0,
      "outputs": []
    },
    {
      "cell_type": "code",
      "metadata": {
        "id": "NKZzHBDQkPW9",
        "colab_type": "code",
        "colab": {}
      },
      "source": [
        "#parsing the article\n",
        "article.parse()\n",
        "\n"
      ],
      "execution_count": 0,
      "outputs": []
    },
    {
      "cell_type": "code",
      "metadata": {
        "id": "e4KtmJpkkbM-",
        "colab_type": "code",
        "outputId": "920a9761-52e8-40b2-ae36-f6d6c3714995",
        "colab": {
          "base_uri": "https://localhost:8080/",
          "height": 67
        }
      },
      "source": [
        "nltk.download('punkt')"
      ],
      "execution_count": 0,
      "outputs": [
        {
          "output_type": "stream",
          "text": [
            "[nltk_data] Downloading package punkt to /root/nltk_data...\n",
            "[nltk_data]   Package punkt is already up-to-date!\n"
          ],
          "name": "stdout"
        },
        {
          "output_type": "execute_result",
          "data": {
            "text/plain": [
              "True"
            ]
          },
          "metadata": {
            "tags": []
          },
          "execution_count": 57
        }
      ]
    },
    {
      "cell_type": "code",
      "metadata": {
        "id": "J_8pd1k-ksb5",
        "colab_type": "code",
        "colab": {}
      },
      "source": [
        "#get the artcle text\n",
        "article.nlp()\n",
        "mytext=article.text"
      ],
      "execution_count": 0,
      "outputs": []
    },
    {
      "cell_type": "code",
      "metadata": {
        "id": "OrFnF9tJk5kK",
        "colab_type": "code",
        "outputId": "1c96ddda-22bf-4ab5-afc2-ec0ba201b749",
        "colab": {
          "base_uri": "https://localhost:8080/",
          "height": 54
        }
      },
      "source": [
        "mytext"
      ],
      "execution_count": 0,
      "outputs": [
        {
          "output_type": "execute_result",
          "data": {
            "text/plain": [
              "'First Grand Match of Cricket Played by Members of the Royal Amateur Society on Hampton Court Green, August 3rd, 1836\\n\\nThe sport of cricket has a known history beginning in the late 16th century. Having originated in south-east England, it became the country\\'s national sport in the 18th century and has developed globally in the 19th and 20th centuries. International matches have been played since 1844 and Test cricket began, retrospectively recognised, in 1877. Cricket is the world\\'s second most popular spectator sport after association football (soccer). Governance is by the International Cricket Council (ICC) which has over one hundred countries and territories in membership although only twelve currently play Test cricket.\\n\\nEarly cricket [ edit ]\\n\\nOrigin [ edit ]\\n\\nCricket was probably created during Saxon or Norman times by children living in the Weald, an area of dense woodlands and clearings in south-east England that lies across Kent and Sussex.[1] The first definite reference is dated Monday, 17 January 1597 (\"Old Style\" Julian date, the year equating to 1598 in the modern calendar).\\n\\nThere have been several speculations about the game\\'s origins including some that it was created in France or Flanders. The earliest of these speculative references is dated Thursday, 10 March 1300 and concerns the future King Edward II playing at \"creag and other games\" in both Westminster and Newenden. It has been suggested that \"creag\" was an Olde English word for cricket but expert opinion is that it was an early spelling of \"craic\", meaning \"fun and games in general\".[2]\\n\\nIt is generally believed that cricket survived as a children\\'s game for many generations before it was increasingly taken up by adults around the beginning of the 17th century. Possibly cricket was derived from bowls, assuming bowls is the older sport, by the intervention of a batsman trying to stop the ball from reaching its target by hitting it away. Playing on sheep-grazed land or in clearings, the original implements may have been a matted lump of sheep\\'s wool (or even a stone or a small lump of wood) as the ball; a stick or a crook or another farm tool as the bat; and a stool or a tree stump or a gate (e.g., a wicket gate) as the wicket.[3]\\n\\nFirst definite reference [ edit ]\\n\\ncreckett circa 1550 John Derrick was a pupil at the Royal Grammar School , then the Free School, in Guildford when he and his friends playedcirca 1550\\n\\nA 1597 (Old Style – 1598 New Style) court case in England concerning an ownership dispute over a plot of common land in Guildford, Surrey mentions the game of creckett. A 59-year-old coroner, John Derrick, testified that he and his school friends had played creckett on the site fifty years earlier when they attended the Free School. Derrick\\'s account proves beyond reasonable doubt that the game was being played in Surrey circa 1550, and is the earliest universally accepted reference to the game.[4][5]\\n\\nThe first reference to cricket being played as an adult sport was in 1611, when two men in Sussex were prosecuted for playing cricket on Sunday instead of going to church.[6] In the same year, a dictionary defined cricket as a boys\\' game and this suggests that adult participation was a recent development.[4]\\n\\nDerivation of the name of \"cricket\" [ edit ]\\n\\nA number of words are thought to be possible sources for the term \"cricket\". In the earliest definite reference,it was spelled creckett. The name may have been derived from the Middle Dutch krick(-e), meaning a stick; or the Old English cricc or cryce meaning a crutch or staff, or the French word criquet meaning a wooden post.[3] The Middle Dutch word krickstoel means a long low stool used for kneeling in church; this resembled the long low wicket with two stumps used in early cricket.[7] According to Heiner Gillmeister, a European language expert of the University of Bonn, \"cricket\" derives from the Middle Dutch phrase for hockey, met de (krik ket)sen (i.e., \"with the stick chase\").[8]\\n\\nIt is more likely that the terminology of cricket was based on words in use in south-east England at the time and, given trade connections with the County of Flanders, especially in the 15th century when it belonged to the Duchy of Burgundy, many Middle Dutch[9] words found their way into southern English dialects.[10]\\n\\nEarly 17th century [ edit ]\\n\\nA number of references occur up to the English Civil War and these indicate that cricket had become an adult game contested by parish teams, but there is no evidence of county strength teams at this time. Equally, there is little evidence of the rampant gambling that characterised the game throughout the 18th century. It is generally believed, therefore, that village cricket had developed by the middle of the 17th century but that county cricket had not and that investment in the game had not begun.[11]\\n\\nThe Commonwealth [ edit ]\\n\\nAfter the Civil War ended in 1648, the new Puritan government clamped down on \"unlawful assemblies\", in particular the more raucous sports such as football. Their laws also demanded a stricter observance of the Sabbath than there had been previously. As the Sabbath was the only free time available to the lower classes, cricket\\'s popularity may have waned during the Commonwealth. However, it did flourish in public fee-paying schools such as Winchester and St Paul\\'s. There is no actual evidence that Oliver Cromwell\\'s regime banned cricket specifically and there are references to it during the interregnum that suggest it was acceptable to the authorities provided that it did not cause any \"breach of the Sabbath\".[11] It is believed that the nobility in general adopted cricket at this time through involvement in village games.[4]\\n\\nGambling and press coverage [ edit ]\\n\\nCricket certainly thrived after the Restoration in 1660 and is believed to have first attracted gamblers making large bets at this time. In 1664, the \"Cavalier\" Parliament passed the Gaming Act 1664 which limited stakes to £100, although that was still a fortune at the time,[11] equivalent to about £15 thousand in present-day terms [12]. Cricket had certainly become a significant gambling sport by the end of the 17th century. There is a newspaper report of a \"great match\" played in Sussex in 1697 which was 11-a-side and played for high stakes of 50 guineas a side.[6]\\n\\nWith freedom of the press having been granted in 1696, cricket for the first time could be reported in the newspapers. But it was a long time before the newspaper industry adapted sufficiently to provide frequent, let alone comprehensive, coverage of the game. During the first half of the 18th century, press reports tended to focus on the betting rather than on the play.[11]\\n\\n18th century cricket [ edit ]\\n\\nPatronage and players [ edit ]\\n\\nGambling introduced the first patrons because some of the gamblers decided to strengthen their bets by forming their own teams and it is believed the first \"county teams\" were formed in the aftermath of the Restoration in 1660, especially as members of the nobility were employing \"local experts\" from village cricket as the earliest professionals.[4] The first known game in which the teams use county names is in 1709 but there can be little doubt that these sort of fixtures were being arranged long before that. The match in 1697 was probably Sussex versus another county.\\n\\nThe most notable of the early patrons were a group of aristocrats and businessmen who were active from about 1725, which is the time that press coverage became more regular, perhaps as a result of the patrons\\' influence. These men included the 2nd Duke of Richmond, Sir William Gage, Alan Brodrick and Edwin Stead. For the first time, the press mentions individual players like Thomas Waymark.\\n\\nCricket expands beyond England [ edit ]\\n\\nCricket was introduced to North America via the English colonies in the 17th century,[10] probably before it had even reached the north of England. In the 18th century it arrived in other parts of the globe. It was introduced to the West Indies by colonists[10] and to India by British East India Company mariners in the first half of the century. It arrived in Australia almost as soon as colonisation began in 1788. New Zealand and South Africa followed in the early years of the 19th century.[4]\\n\\nCricket never caught on in Canada, despite efforts by an imperial-minded elite to promote the game as a way of identifying with the British Empire. Canada, unlike Australia and the West Indies, witnessed a continual decline in the popularity of the game during 1860–1960. Linked to upper class British-Canadian elites, the game never became popular with the general public. In the summer season it had to compete with baseball. During the First World War, Canadian units stationed in Britain played baseball, not cricket.[13][14]\\n\\nDevelopment of the Laws [ edit ]\\n\\nThe basic rules of cricket such as bat and ball, the wicket, pitch dimensions, overs, how out, etc. have existed since time immemorial. In 1728, the Duke of Richmond and Alan Brodick drew up Articles of Agreement to determine the code of practice in a particular game and this became a common feature, especially around payment of stake money and distributing the winnings given the importance of gambling.[6]\\n\\nIn 1744, the Laws of Cricket were codified for the first time and then amended in 1774, when innovations such as lbw, middle stump and maximum bat width were added. These laws stated that \"the principals shall choose from amongst the gentlemen present two umpires who shall absolutely decide all disputes\". The codes were drawn up by the so-called \"Star and Garter Club\" whose members ultimately founded MCC at Lord\\'s in 1787. MCC immediately became the custodian of the Laws and has made periodic revisions and recodifications subsequently.[15]\\n\\nContinued growth in England [ edit ]\\n\\nThe game continued to spread throughout England and, in 1751, Yorkshire is first mentioned as a venue.[16] The original form of bowling (i.e., rolling the ball along the ground as in bowls) was superseded sometime after 1760 when bowlers began to pitch the ball and study variations in line, length and pace.[11] Scorecards began to be kept on a regular basis from 1772 and since then an increasingly clear picture has emerged of the sport\\'s development.[17]\\n\\nAn artwork depicting the history of the cricket bat\\n\\nThe first famous clubs were London and Dartford in the early 18th century. London played its matches on the Artillery Ground, which still exists. Others followed, particularly Slindon in Sussex which was backed by the Duke of Richmond and featured the star player Richard Newland. There were other prominent clubs at Maidenhead, Hornchurch, Maidstone, Sevenoaks, Bromley, Addington, Hadlow and Chertsey.\\n\\nBut far and away the most famous of the early clubs was Hambledon in Hampshire. It started as a parish organisation that first achieved prominence in 1756. The club itself was founded in the 1760s and was well patronised to the extent that it was the focal point of the game for about thirty years until the formation of MCC and the opening of Lord\\'s Cricket Ground in 1787. Hambledon produced several outstanding players including the master batsman John Small and the first great fast bowler Thomas Brett. Their most notable opponent was the Chertsey and Surrey bowler Edward \"Lumpy\" Stevens, who is believed to have been the main proponent of the flighted delivery.\\n\\nIt was in answer to the flighted, or pitched, delivery that the straight bat was introduced. The old \"hockey stick\" style of bat was only really effective against the ball being trundled or skimmed along the ground.\\n\\nCricket and crisis [ edit ]\\n\\nA Game of Cricket at The Royal Academy Club in Marylebone Fields, now Regent\\'s Park, depiction by unknown artist, c. 1790–1799\\n\\nCricket faced its first real crisis during the 18th century when major matches virtually ceased during the Seven Years\\' War. This was largely due to shortage of players and lack of investment. But the game survived and the \"Hambledon Era\" proper began in the mid-1760s.\\n\\nCricket faced another major crisis at the beginning of the 19th century when a cessation of major matches occurred during the culminating period of the Napoleonic Wars. Again, the causes were shortage of players and lack of investment.[18] But, as in the 1760s, the game survived and a slow recovery began in 1815.\\n\\nOn 17 June 1815, on the eve of the Battle of Waterloo British soldiers played a cricket match in the Bois de la Cambre park in Brussels. Ever since the park area where that match took place has been called La Pelouse des Anglais (the Englishmen\\'s lawn).\\n\\nMCC was itself the centre of controversy in the Regency period, largely on account of the enmity between Lord Frederick Beauclerk and George Osbaldeston. In 1817, their intrigues and jealousies exploded into a match-fixing scandal with the top player William Lambert being banned from playing at Lord\\'s Cricket Ground for life. Gambling scandals in cricket had been going on since the 17th century.\\n\\nIn the 1820s, cricket faced a major crisis of its own making as the campaign to allow roundarm bowling gathered pace.\\n\\n19th century cricket [ edit ]\\n\\nView of Geneva \\'s Plaine de Plainpalais with cricketers, 1817\\n\\nThe game also underwent a fundamental change of organisation with the formation for the first time of county clubs. All the modern county clubs, starting with Sussex in 1839, were founded during the 19th century. No sooner had the first county clubs established themselves than they faced what amounted to \"player action\" as William Clarke created the travelling All-England Eleven in 1846. Though a commercial venture, this team did much to popularise the game in districts which had never previously been visited by high-class cricketers. Other similar teams were created and this vogue lasted for about thirty years. But the counties and MCC prevailed.\\n\\nA cricket match at Darnall, Sheffield in the 1820s.\\n\\nThe growth of cricket in the mid and late 19th century was assisted by the development of the railway network. For the first time, teams from a long distance apart could play one other without a prohibitively time-consuming journey. Spectators could travel longer distances to matches, increasing the size of crowds. Army units around the Empire had time on their hands, and encouraged the locals so they could have some entertaining competition. Most of the Empire embraced cricket, with the exception of Canada.[19]\\n\\nIn 1864, another bowling revolution resulted in the legalisation of overarm and in the same year Wisden Cricketers\\' Almanack was first published. W. G. Grace began his long and influential career at this time, his feats doing much to increase cricket\\'s popularity. He introduced technical innovations which revolutionised the game, particularly in batting.\\n\\nInternational cricket begins [ edit ]\\n\\nThe first ever international cricket game was between the US and Canada in 1844. The match was played at the grounds of the St George\\'s Cricket Club in New York.[20]\\n\\nThe English team 1859 on their way to the US\\n\\nIn 1859, a team of leading English professionals set off to North America on the first-ever overseas tour and, in 1862, the first English team toured Australia. Between May and October 1868, a team of Australian Aborigines toured England in what was the first Australian cricket team to travel overseas.[21]\\n\\nThe first Australian touring team (1878) pictured at Niagara Falls\\n\\nIn 1877, an England touring team in Australia played two matches against full Australian XIs that are now regarded as the inaugural Test matches. The following year, the Australians toured England for the first time and the success of this tour ensured a popular demand for similar ventures in future. No Tests were played in 1878 but more soon followed and, at The Oval in 1882, the Australian victory in a tense finish gave rise to The Ashes.\\n\\nSouth Africa became the third Test nation in 1889.\\n\\nNational championships [ edit ]\\n\\nA significant development in domestic cricket occurred in 1890 when the official County Championship was constituted in England. This organisational initiative has been repeated in other countries. Australia established the Sheffield Shield in 1892–93. Other national competitions to be established were the Currie Cup in South Africa, the Plunket Shield in New Zealand and the Ranji Trophy in India.\\n\\nThe period from 1890 to the outbreak of the First World War has become one of nostalgia, ostensibly because the teams played cricket according to \"the spirit of the game\", but more realistically because it was a peacetime period that was shattered by the First World War. The era has been called The Golden Age of cricket and it featured numerous great names such as Grace, Wilfred Rhodes, C. B. Fry, Ranjitsinhji and Victor Trumper.\\n\\nBalls per over [ edit ]\\n\\nCricket started with four balls per over. In 1889 the four balls per over was replaced by a five balls per over and then this was changed to the current six balls per over in 1900. Subsequently, some countries experimented with eight balls per over. In 1922, the number of balls per over was changed from six to eight in Australia only. In 1924 the eight balls per over was extended to New Zealand and in 1937 to South Africa. In England, the eight balls per over was adopted experimentally for the 1939 season; the intention was to continue the experiment in 1940, but first-class cricket was suspended for the Second World War and when it resumed, English cricket reverted to the six ball over. The 1947 Laws of Cricket allowed six or eight balls depending on the conditions of play. Since the 1979/80 Australian and New Zealand seasons, the six balls per over has been used worldwide and the most recent version of the Laws in 2000 only permits six ball overs.\\n\\n20th century cricket [ edit ]\\n\\nGrowth of Test cricket [ edit ]\\n\\nWhen the Imperial Cricket Conference (as it was originally called) was founded in 1909, only England, Australia and South Africa were members. West Indies (1928), New Zealand (1930) and India (1932) became Test nations before World War II and Pakistan (1952) soon afterwards. The international game grew with several ICC Affiliate Members being appointed and, in the last quarter of the 20th century, three of those became full members: Sri Lanka (1982), Zimbabwe (1992) and Bangladesh (2000). They were followed in the early 21st century by Ireland and Afghanistan (both 2018).\\n\\nTest cricket remained the sport\\'s highest level of standard throughout the 20th century but it had its problems, notably in the infamous \"Bodyline Series\" of 1932–33 when Douglas Jardine\\'s England used so-called \"leg theory\" to try and neutralise the run-scoring brilliance of Australia\\'s Don Bradman.\\n\\nSuspension of South Africa (1970–91) [ edit ]\\n\\nThe greatest crisis to hit international cricket was brought about by apartheid, the South African policy of racial segregation. The situation began to crystallise after 1961 when South Africa left the Commonwealth of Nations and so, under the rules of the day, its cricket board had to leave the International Cricket Conference (ICC). Cricket\\'s opposition to apartheid intensified in 1968 with the cancellation of England\\'s tour to South Africa by the South African authorities, due to the inclusion of \"coloured\" cricketer Basil D\\'Oliveira in the England team. In 1970, the ICC members voted to suspend South Africa indefinitely from international cricket competition.\\n\\nStarved of top-level competition for its best players, the South African Cricket Board began funding so-called \"rebel tours\", offering large sums of money for international players to form teams and tour South Africa. The ICC\\'s response was to blacklist any rebel players who agreed to tour South Africa, banning them from officially sanctioned international cricket. As players were poorly remunerated during the 1970s, several accepted the offer to tour South Africa, particularly players getting towards the end of their careers for which a blacklisting would have little effect.\\n\\nThe rebel tours continued into the 1980s but then progress was made in South African politics and it became clear that apartheid was ending. South Africa, now a \"Rainbow Nation\" under Nelson Mandela, was welcomed back into international sport in 1991.\\n\\nWorld Series Cricket [ edit ]\\n\\nThe money problems of top cricketers were also the root cause of another cricketing crisis that arose in 1977 when the Australian media magnate Kerry Packer fell out with the Australian Cricket Board over TV rights. Taking advantage of the low remuneration paid to players, Packer retaliated by signing several of the best players in the world to a privately run cricket league outside the structure of international cricket. World Series Cricket hired some of the banned South African players and allowed them to show off their skills in an international arena against other world-class players. The schism lasted only until 1979 and the \"rebel\" players were allowed back into established international cricket, though many found that their national teams had moved on without them. Long-term results of World Series Cricket have included the introduction of significantly higher player salaries and innovations such as coloured kit and night games.\\n\\nLimited-overs cricket [ edit ]\\n\\nIn the 1960s, English county teams began playing a version of cricket with games of only one innings each and a maximum number of overs per innings. Starting in 1963 as a knockout competition only, limited-overs cricket grew in popularity and, in 1969, a national league was created which consequently caused a reduction in the number of matches in the County Championship.\\n\\nAlthough many \"traditional\" cricket fans objected to the shorter form of the game, limited-overs cricket did have the advantage of delivering a result to spectators within a single day; it did improve cricket\\'s appeal to younger or busier people; and it did prove commercially successful.\\n\\nThe first limited-overs international match took place at Melbourne Cricket Ground in 1971 as a time-filler after a Test match had been abandoned because of heavy rain on the opening days. It was tried simply as an experiment and to give the players some exercise, but turned out to be immensely popular. limited-overs internationals (LOIs or ODIs—one-day internationals) have since grown to become a massively popular form of the game, especially for busy people who want to be able to see a whole match. The International Cricket Council reacted to this development by organising the first Cricket World Cup in England in 1975, with all the Test-playing nations taking part.\\n\\nAnalytic and graphic technology [ edit ]\\n\\nLimited-overs cricket increased television ratings for cricket coverage. Innovative techniques introduced in coverage of limited-over matches were soon adopted for Test coverage. The innovations included presentation of in-depth statistics and graphical analysis, placing miniature cameras in the stumps, multiple usage of cameras to provide shots from several locations around the ground, high-speed photography and computer graphics technology enabling television viewers to study the course of a delivery and help them understand an umpire\\'s decision.\\n\\nIn 1992, the use of a third umpire to adjudicate run-out appeals with television replays was introduced in the Test series between South Africa and India. The third umpire\\'s duties have subsequently expanded to include decisions on other aspects of play such as stumpings, catches and boundaries. From 2011, the third umpire was being called upon to moderate review of umpires\\' decisions, including LBW, with the aid of virtual-reality tracking technologies (e.g., Hawk-Eye and Hot Spot), though such measures still could not free some disputed decisions from heated controversy.[22]\\n\\n21st century cricket [ edit ]\\n\\nIn June 2001, the ICC introduced a \"Test Championship Table\" and, in October 2002, a \"One-day International Championship Table\". As indicated by ICC rankings,[23] the various cricket formats have continued to be a major competitive sport in most former British Empire countries, notably the Indian subcontinent, and new participants including the Netherlands. In 2017, the number of countries with full ICC membership was increased to twelve by the addition of Afghanistan and Ireland.\\n\\nThe ICC expanded its development programme, aiming to produce more national teams capable of competing at the various formats. Development efforts are focused on African and Asian nations, and on the United States. In 2004, the ICC Intercontinental Cup brought first-class cricket to 12 nations, mostly for the first time. Cricket\\'s newest innovation is Twenty20, essentially an evening entertainment. It has so far enjoyed enormous popularity and has attracted large attendances at matches as well as good TV audience ratings. The inaugural ICC Twenty20 World Cup tournament was held in 2007.[24] The formation of Twenty20 leagues in India – the unofficial Indian Cricket League, which started in 2007, and the official Indian Premier League, starting in 2008 – raised much speculation in the cricketing press about their effect on the future of cricket.[25][26][27][28]\\n\\nHistorical sources [ edit ]\\n\\n\"First-class cricket\" was not officially defined until May 1894 and became effective from the start of the 1895 English cricket season.[29] Cricket of a recognised first-class standard (i.e., in important matches) had, however, been recorded in England for two centuries before then, and in other countries from the middle of the 19th century. There is no official term for cricket of this high standard before 1895 and many loose terms were used for convenience including \"first-class\" itself and other adjectives like \"major\", \"great\" and \"important\", the latter being coined by the ACS for its A Guide to Important Cricket Matches Played in the British Isles 1709–1863 (1981).[29] It is generally agreed by the main historical sources that the earliest known example of what was contemporarily called a \"great match\" was the one played for fifty guineas in June 1697 between two eleven-a-side teams at an unspecified location in Sussex.[6] It is entirely feasible, and is indeed believed by some historians, that major matches were played for many years before 1697.[30][31] In 1695, the English Parliament decided against a renewal of the 1662 Licensing Act and so cleared the way for a free press on the Act\\'s expiry in 1696.[32] The main reason for matches before 1697 being unknown is that, while the Licensing Act was in force, it effectively imposed censorship upon the press and sport was not deemed to be a suitable subject for newspaper coverage. After the restrictions were removed, sport was gradually introduced into the newspapers but it would be decades before coverage became anything substantial, let alone comprehensive.[32]\\n\\nFrom 1895, there is no question about first-class status because of the official definition.[29] The concept became global from 1947 when it was re-defined by the ICC, although there has been hardly any controversy about match status outside Great Britain before 1947.[33] Status of limited overs matches, which began in 1963, is governed by the official List A categorisation and there are similarly no issues about major Twenty20 matches. Although the experts are in general agreement about match status, there have been exceptions although these account for a tiny percentage of the total number of matches recorded. Apart from one tour of India and Ceylon by a privately organised team in the winter of 1930–31, all the \"disputed\" matches took place in England before 1895: see Variations in published cricket statistics for further information.\\n\\nThe list below is by no means exhaustive, but the works included are widely held in cricketing circles to be significant and substantial sources of information about the development of the sport from the end of the 17th century to the commencement of officially defined first-class cricket in 1895. These are widely used to determine the status of individual matches, teams, venues and players. In a more general sense, all of the sources listed in Bibliography of cricket, though again this is not an exhaustive list, are reliable but autobiographies and other works with a narrow scope are not necessarily suitable, certainly not if used in isolation, to determine match status.\\n\\nBooks and other printed works [ edit ]\\n\\nExamples of substantial season-specific sources [ edit ]\\n\\nWisden. Pardon, Charles (ed.). Wisden Cricketers\\' Almanack, 27th edition (1890 ed.). London: John Wisden & Co. Ltd.\\n\\nWisden. Pardon, Sydney (ed.). Wisden Cricketers\\' Almanack, 32nd edition (1895 ed.). London: John Wisden & Co. Ltd.\\n\\nWisden. Preston, Hubert (ed.). Wisden Cricketers\\' Almanack, 85th edition (1948 ed.). London: John Wisden & Co. Ltd.\\n\\nPlayfair. West, Peter (ed.). Playfair Cricket Annual, 1st edition (1948 ed.). London: Playfair Books.\\n\\nExamples of substantial subject-specific sources [ edit ]\\n\\nHodgson, Derek (1989). The Official History of Yorkshire County Cricket Club . The Crowood Press. ISBN 1852232749 .\\n\\nKilburn, J. M. (1970). A History of Yorkshire Cricket. Stanley Paul. ISBN 0091011108 .\\n\\nSelected online sources [ edit ]\\n\\nSee also [ edit ]\\n\\nReferences [ edit ]'"
            ]
          },
          "metadata": {
            "tags": []
          },
          "execution_count": 59
        }
      ]
    },
    {
      "cell_type": "code",
      "metadata": {
        "id": "yo4Gxu15k7TQ",
        "colab_type": "code",
        "colab": {}
      },
      "source": [
        "myobj=gTTS(mytext[:500])"
      ],
      "execution_count": 0,
      "outputs": []
    },
    {
      "cell_type": "code",
      "metadata": {
        "id": "JNYhimqolIbQ",
        "colab_type": "code",
        "colab": {}
      },
      "source": [
        "myobj.save(\"cric.mp3\")"
      ],
      "execution_count": 0,
      "outputs": []
    },
    {
      "cell_type": "code",
      "metadata": {
        "id": "xT8nok2MlMTk",
        "colab_type": "code",
        "colab": {}
      },
      "source": [
        ""
      ],
      "execution_count": 0,
      "outputs": []
    }
  ]
}